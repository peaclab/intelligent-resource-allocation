{
 "cells": [
  {
   "cell_type": "code",
   "execution_count": 9,
   "id": "484e4b88",
   "metadata": {},
   "outputs": [],
   "source": [
    "# System and path management\n",
    "import sys\n",
    "sys.path.append('/projectnb/peaclab-mon/boztop/resource-allocation/config')\n",
    "\n",
    "# Data handling and manipulation\n",
    "import os\n",
    "import pandas as pd\n",
    "import numpy as np\n",
    "import pyarrow.parquet as pq\n",
    "from datetime import timedelta, datetime\n",
    "\n",
    "# Machine learning\n",
    "from sklearn.metrics import mean_squared_error, mean_absolute_error, r2_score\n",
    "from sklearn.model_selection import train_test_split\n",
    "from sklearn.ensemble import RandomForestRegressor\n",
    "from sklearn.cluster import KMeans\n",
    "import xgboost as xgb\n",
    "from xgboost import XGBRegressor\n",
    "\n",
    "# Plotting and visualization\n",
    "import matplotlib.pyplot as plt\n",
    "import seaborn as sns\n",
    "from matplotlib import cm\n",
    "\n",
    "# Custom imports\n",
    "from fugaku_data_preprocessing import preprocess_data\n",
    "from ml_model_training import train_model_per_cluster\n",
    "\n",
    "# Utility\n",
    "import itertools\n"
   ]
  },
  {
   "cell_type": "markdown",
   "id": "f02180e5",
   "metadata": {},
   "source": [
    "# Data Preprocessing"
   ]
  },
  {
   "cell_type": "code",
   "execution_count": 2,
   "id": "ca31f325",
   "metadata": {},
   "outputs": [
    {
     "name": "stderr",
     "output_type": "stream",
     "text": [
      "/projectnb/peaclab-mon/boztop/resource-allocation/config/fugaku_data_preprocessing.py:81: SettingWithCopyWarning: \n",
      "A value is trying to be set on a copy of a slice from a DataFrame.\n",
      "Try using .loc[row_indexer,col_indexer] = value instead\n",
      "\n",
      "See the caveats in the documentation: https://pandas.pydata.org/pandas-docs/stable/user_guide/indexing.html#returning-a-view-versus-a-copy\n",
      "  df[col] = label_encoders[col].fit_transform(df[col])\n"
     ]
    },
    {
     "name": "stdout",
     "output_type": "stream",
     "text": [
      "Preprocessing complete.\n",
      "Number of successful jobs: 338796\n",
      "Number of failed jobs: 81654\n"
     ]
    }
   ],
   "source": [
    "directory = '/projectnb/peaclab-mon/boztop/resource-allocation/datasets/fugaku/24_04.parquet'\n",
    "df_success, df_failure, numerical_features = preprocess_data(directory)\n",
    "print(\"Preprocessing complete.\")\n",
    "print(f\"Number of successful jobs: {len(df_success)}\")\n",
    "print(f\"Number of failed jobs: {len(df_failure)}\")"
   ]
  },
  {
   "cell_type": "markdown",
   "id": "9b3d0217",
   "metadata": {},
   "source": [
    "# Menear et al."
   ]
  },
  {
   "cell_type": "code",
   "execution_count": 3,
   "id": "15f4b167",
   "metadata": {},
   "outputs": [],
   "source": [
    "#sourced from: https://github.com/NREL/eagle-jobs/blob/master/python_scripts/EVAL_FinalModel.py\n",
    "def baseline_training(train_df, test_df, train_features, target_feature, filename):\n",
    "    \n",
    "    train_df = train_df.dropna()\n",
    "    test_df = test_df.dropna()\n",
    "    \n",
    "    X_train = train_df[train_features]\n",
    "    X_test = test_df[train_features]\n",
    "    y_train = train_df[target_feature]\n",
    "    y_test = test_df[target_feature]\n",
    "\n",
    "\n",
    "    params = { # From Optuna HPO\n",
    "        'n_estimators': 168,\n",
    "        'max_depth': 7,\n",
    "        'learning_rate': 0.3968571956999504,\n",
    "        'gamma': 0.640232768439118,\n",
    "        'subsample': 0.747747407403972,\n",
    "        'colsample_bytree': 0.6280085182287491\n",
    "    }\n",
    "\n",
    "    model = XGBRegressor(**params)\n",
    "    model.fit(X_train, y_train)\n",
    "\n",
    "    y_pred = model.predict(X_test)\n",
    "    \n",
    "    pred_vs_act_df = pd.DataFrame(columns=['runtime_pred', 'runtime_act'])\n",
    "    pred_vs_act_df = pd.DataFrame({'runtime_pred': y_pred, 'runtime_act': y_test})\n",
    "\n",
    "    r2 = r2_score(y_test, y_pred)\n",
    "    rmse = mean_squared_error(y_test, y_pred, squared=False)\n",
    "\n",
    "    print(f'r2: {r2:.3f}, rmse: {rmse:.0f}')\n",
    "\n",
    "    # save the results of the baseline    \n",
    "    pred_vs_act_df.to_pickle(filename)\n",
    "        "
   ]
  },
  {
   "cell_type": "markdown",
   "id": "068b2f17",
   "metadata": {},
   "source": [
    "# Execution Time Prediction Experiments"
   ]
  },
  {
   "cell_type": "code",
   "execution_count": 5,
   "id": "b1f143a1",
   "metadata": {},
   "outputs": [],
   "source": [
    "def create_sub_dataframes(df, selected_features, n_clusters):\n",
    "\n",
    "    feature_data = df[selected_features].replace([np.inf, -np.inf], np.nan).fillna(df.mean(numeric_only=True))\n",
    "    feature_data_scaled = feature_data.values  \n",
    "\n",
    "    kmeans = KMeans(n_clusters=n_clusters, random_state=42)\n",
    "    \n",
    "    df['cluster'] = kmeans.fit_predict(feature_data_scaled)\n",
    "    \n",
    "    cluster_centers = kmeans.cluster_centers_\n",
    "    \n",
    "    sub_dataframes = [df[df['cluster'] == cluster].drop(columns=['cluster']) for cluster in range(n_clusters)]\n",
    "    \n",
    "    return sub_dataframes, cluster_centers\n"
   ]
  },
  {
   "cell_type": "code",
   "execution_count": 6,
   "id": "bbc937d1",
   "metadata": {},
   "outputs": [],
   "source": [
    "def make_predictions(test_df, train_features, target_feature, cluster_centers, models, biases, bias_type, filename, add_bias=False):\n",
    "\n",
    "    test_features = test_df[train_features].values\n",
    "    distances = np.linalg.norm(cluster_centers[:, np.newaxis] - test_features, axis=2)\n",
    "    \n",
    "    test_df.loc[:, 'cluster'] = np.argmin(distances, axis=0)\n",
    "\n",
    "    pred_vs_act_df = pd.DataFrame(columns=['runtime_pred', 'runtime_act', 'original_index'])\n",
    "\n",
    "    for cluster_id, (model, bias_dict) in enumerate(zip(models, biases)):\n",
    "        cluster_data = test_df[test_df['cluster'] == cluster_id]\n",
    "        if not cluster_data.empty:\n",
    "            X_test = cluster_data[train_features].values\n",
    "            y_test = cluster_data[target_feature].values\n",
    "\n",
    "            if add_bias:\n",
    "                # Select the appropriate bias based on the specified bias type\n",
    "                bias = bias_dict.get(bias_type, 0) \n",
    "                y_pred = model.predict(X_test) + bias\n",
    "            else:\n",
    "                y_pred = model.predict(X_test)\n",
    "\n",
    "            new_df = pd.DataFrame({\n",
    "                'runtime_pred': y_pred,\n",
    "                'runtime_act': y_test,\n",
    "                'original_index': cluster_data.index\n",
    "            })\n",
    "            pred_vs_act_df = pd.concat([pred_vs_act_df, new_df], ignore_index=True)\n",
    "\n",
    "    # Sort results by the original index\n",
    "    pred_vs_act_df = pred_vs_act_df.sort_values(by='original_index').reset_index(drop=True)\n",
    "\n",
    "    # Save results to a file\n",
    "    pred_vs_act_df.to_pickle(filename)\n",
    "\n",
    "    \n",
    "    "
   ]
  },
  {
   "cell_type": "code",
   "execution_count": 11,
   "id": "9b86fb35",
   "metadata": {},
   "outputs": [],
   "source": [
    "bias_types = ['mean', 'mad', 'std_dev', 'two_sigma']\n",
    "\n",
    "train_features = ['usr', 'jnam', 'cnumr', 'nnumr', 'elpl', 'mszl', 'freq_req']\n",
    "target_feature = 'duration'\n",
    "req_feature = 'elpl'\n",
    "\n"
   ]
  },
  {
   "cell_type": "code",
   "execution_count": 12,
   "id": "1cbbc54d",
   "metadata": {},
   "outputs": [
    {
     "name": "stdout",
     "output_type": "stream",
     "text": [
      "[INFO] Creating sub-dataframes and clustering...\n"
     ]
    },
    {
     "name": "stderr",
     "output_type": "stream",
     "text": [
      "/project/peaclab-mon/monitoring_venv/lib/python3.6/site-packages/ipykernel_launcher.py:8: SettingWithCopyWarning: \n",
      "A value is trying to be set on a copy of a slice from a DataFrame.\n",
      "Try using .loc[row_indexer,col_indexer] = value instead\n",
      "\n",
      "See the caveats in the documentation: https://pandas.pydata.org/pandas-docs/stable/user_guide/indexing.html#returning-a-view-versus-a-copy\n",
      "  \n"
     ]
    },
    {
     "name": "stdout",
     "output_type": "stream",
     "text": [
      "[INFO] Training plain models (XGBoost and RandomForest)...\n",
      "[INFO] Plain models training completed.\n",
      "[INFO] Running baseline training...\n",
      "r2: 0.904, rmse: 8820\n",
      "[INFO] Baseline training completed.\n",
      "[INFO] Making plain XGBoost predictions...\n",
      "[INFO] Making plain RandomForest predictions...\n"
     ]
    },
    {
     "name": "stderr",
     "output_type": "stream",
     "text": [
      "/project/peaclab-mon/monitoring_venv/lib/python3.6/site-packages/pandas/core/indexing.py:1596: SettingWithCopyWarning: \n",
      "A value is trying to be set on a copy of a slice from a DataFrame.\n",
      "Try using .loc[row_indexer,col_indexer] = value instead\n",
      "\n",
      "See the caveats in the documentation: https://pandas.pydata.org/pandas-docs/stable/user_guide/indexing.html#returning-a-view-versus-a-copy\n",
      "  self.obj[key] = _infer_fill_value(value)\n",
      "/project/peaclab-mon/monitoring_venv/lib/python3.6/site-packages/pandas/core/indexing.py:1743: SettingWithCopyWarning: \n",
      "A value is trying to be set on a copy of a slice from a DataFrame.\n",
      "Try using .loc[row_indexer,col_indexer] = value instead\n",
      "\n",
      "See the caveats in the documentation: https://pandas.pydata.org/pandas-docs/stable/user_guide/indexing.html#returning-a-view-versus-a-copy\n",
      "  isetter(ilocs[0], value)\n",
      "/project/peaclab-mon/monitoring_venv/lib/python3.6/site-packages/pandas/core/indexing.py:1743: SettingWithCopyWarning: \n",
      "A value is trying to be set on a copy of a slice from a DataFrame.\n",
      "Try using .loc[row_indexer,col_indexer] = value instead\n",
      "\n",
      "See the caveats in the documentation: https://pandas.pydata.org/pandas-docs/stable/user_guide/indexing.html#returning-a-view-versus-a-copy\n",
      "  isetter(ilocs[0], value)\n"
     ]
    },
    {
     "name": "stdout",
     "output_type": "stream",
     "text": [
      "[INFO] Evaluating with bias type: mean...\n"
     ]
    },
    {
     "name": "stderr",
     "output_type": "stream",
     "text": [
      "/project/peaclab-mon/monitoring_venv/lib/python3.6/site-packages/pandas/core/indexing.py:1743: SettingWithCopyWarning: \n",
      "A value is trying to be set on a copy of a slice from a DataFrame.\n",
      "Try using .loc[row_indexer,col_indexer] = value instead\n",
      "\n",
      "See the caveats in the documentation: https://pandas.pydata.org/pandas-docs/stable/user_guide/indexing.html#returning-a-view-versus-a-copy\n",
      "  isetter(ilocs[0], value)\n",
      "/project/peaclab-mon/monitoring_venv/lib/python3.6/site-packages/pandas/core/indexing.py:1743: SettingWithCopyWarning: \n",
      "A value is trying to be set on a copy of a slice from a DataFrame.\n",
      "Try using .loc[row_indexer,col_indexer] = value instead\n",
      "\n",
      "See the caveats in the documentation: https://pandas.pydata.org/pandas-docs/stable/user_guide/indexing.html#returning-a-view-versus-a-copy\n",
      "  isetter(ilocs[0], value)\n"
     ]
    },
    {
     "name": "stdout",
     "output_type": "stream",
     "text": [
      "[INFO] Evaluating with bias type: mad...\n"
     ]
    },
    {
     "name": "stderr",
     "output_type": "stream",
     "text": [
      "/project/peaclab-mon/monitoring_venv/lib/python3.6/site-packages/pandas/core/indexing.py:1743: SettingWithCopyWarning: \n",
      "A value is trying to be set on a copy of a slice from a DataFrame.\n",
      "Try using .loc[row_indexer,col_indexer] = value instead\n",
      "\n",
      "See the caveats in the documentation: https://pandas.pydata.org/pandas-docs/stable/user_guide/indexing.html#returning-a-view-versus-a-copy\n",
      "  isetter(ilocs[0], value)\n",
      "/project/peaclab-mon/monitoring_venv/lib/python3.6/site-packages/pandas/core/indexing.py:1743: SettingWithCopyWarning: \n",
      "A value is trying to be set on a copy of a slice from a DataFrame.\n",
      "Try using .loc[row_indexer,col_indexer] = value instead\n",
      "\n",
      "See the caveats in the documentation: https://pandas.pydata.org/pandas-docs/stable/user_guide/indexing.html#returning-a-view-versus-a-copy\n",
      "  isetter(ilocs[0], value)\n"
     ]
    },
    {
     "name": "stdout",
     "output_type": "stream",
     "text": [
      "[INFO] Evaluating with bias type: std_dev...\n"
     ]
    },
    {
     "name": "stderr",
     "output_type": "stream",
     "text": [
      "/project/peaclab-mon/monitoring_venv/lib/python3.6/site-packages/pandas/core/indexing.py:1743: SettingWithCopyWarning: \n",
      "A value is trying to be set on a copy of a slice from a DataFrame.\n",
      "Try using .loc[row_indexer,col_indexer] = value instead\n",
      "\n",
      "See the caveats in the documentation: https://pandas.pydata.org/pandas-docs/stable/user_guide/indexing.html#returning-a-view-versus-a-copy\n",
      "  isetter(ilocs[0], value)\n",
      "/project/peaclab-mon/monitoring_venv/lib/python3.6/site-packages/pandas/core/indexing.py:1743: SettingWithCopyWarning: \n",
      "A value is trying to be set on a copy of a slice from a DataFrame.\n",
      "Try using .loc[row_indexer,col_indexer] = value instead\n",
      "\n",
      "See the caveats in the documentation: https://pandas.pydata.org/pandas-docs/stable/user_guide/indexing.html#returning-a-view-versus-a-copy\n",
      "  isetter(ilocs[0], value)\n"
     ]
    },
    {
     "name": "stdout",
     "output_type": "stream",
     "text": [
      "[INFO] Evaluating with bias type: two_sigma...\n"
     ]
    },
    {
     "name": "stderr",
     "output_type": "stream",
     "text": [
      "/project/peaclab-mon/monitoring_venv/lib/python3.6/site-packages/pandas/core/indexing.py:1743: SettingWithCopyWarning: \n",
      "A value is trying to be set on a copy of a slice from a DataFrame.\n",
      "Try using .loc[row_indexer,col_indexer] = value instead\n",
      "\n",
      "See the caveats in the documentation: https://pandas.pydata.org/pandas-docs/stable/user_guide/indexing.html#returning-a-view-versus-a-copy\n",
      "  isetter(ilocs[0], value)\n",
      "/project/peaclab-mon/monitoring_venv/lib/python3.6/site-packages/pandas/core/indexing.py:1743: SettingWithCopyWarning: \n",
      "A value is trying to be set on a copy of a slice from a DataFrame.\n",
      "Try using .loc[row_indexer,col_indexer] = value instead\n",
      "\n",
      "See the caveats in the documentation: https://pandas.pydata.org/pandas-docs/stable/user_guide/indexing.html#returning-a-view-versus-a-copy\n",
      "  isetter(ilocs[0], value)\n"
     ]
    }
   ],
   "source": [
    "# Train-Test split\n",
    "train_df, test_df = train_test_split(df_success, test_size=0.2, random_state=33)\n",
    "\n",
    "\n",
    "print(\"[INFO] Creating sub-dataframes and clustering...\")\n",
    "sub_dataframes, cluster_centers = create_sub_dataframes(\n",
    "    df=train_df, \n",
    "    selected_features=train_features, \n",
    "    n_clusters=4\n",
    ")\n",
    "\n",
    "\n",
    "print(\"[INFO] Training plain models (XGBoost and RandomForest)...\")\n",
    "xgb_plain_models, plain_biases = train_model_per_cluster(\n",
    "    sub_dataframes, train_features, target_feature, 'xgboost', alpha=1)\n",
    "rf_plain_models, plain_biases = train_model_per_cluster(\n",
    "    sub_dataframes, train_features, target_feature, 'rf', alpha=1)\n",
    "print(\"[INFO] Plain models training completed.\")\n",
    "\n",
    "\n",
    "print(\"[INFO] Running baseline training...\")\n",
    "baseline_training(train_df, test_df, \n",
    "                  train_features, target_feature, \n",
    "                  f'fugaku_baseline_execution_time_pred_vs_act_df.pkl')\n",
    "print(\"[INFO] Baseline training completed.\")\n",
    "\n",
    "\n",
    "print(\"[INFO] Making plain XGBoost predictions...\")\n",
    "make_predictions(\n",
    "    test_df, train_features, target_feature, cluster_centers, \n",
    "    xgb_plain_models, plain_biases, 'mad', \n",
    "    f'fugaku_CP_xgboost_execution_time_pred_vs_act_df.pkl', \n",
    "    add_bias=False\n",
    ")\n",
    "\n",
    "\n",
    "print(\"[INFO] Making plain RandomForest predictions...\")\n",
    "make_predictions(\n",
    "    test_df, train_features, target_feature, cluster_centers, \n",
    "    rf_plain_models, plain_biases, 'mad', \n",
    "    f'fugaku_CP_rf_execution_time_pred_vs_act_df.pkl', \n",
    "    add_bias=False\n",
    ")\n",
    "\n",
    "for bias_type in bias_types:\n",
    "    print(f\"[INFO] Evaluating with bias type: {bias_type}...\")\n",
    "\n",
    "    make_predictions(\n",
    "        test_df, train_features, target_feature, cluster_centers,\n",
    "        xgb_plain_models, plain_biases, bias_type,\n",
    "        f'fugaku_CB_xgboost_{bias_type}_execution_time_pred_vs_act_df.pkl', \n",
    "        add_bias=True\n",
    "    )\n",
    "\n",
    "    make_predictions(\n",
    "        test_df, train_features, target_feature, cluster_centers,\n",
    "        rf_plain_models, plain_biases, bias_type,\n",
    "        f'fugaku_CB_rf_{bias_type}_execution_time_pred_vs_act_df.pkl', \n",
    "        add_bias=True\n",
    "    )\n",
    "\n",
    "\n",
    "y_test = test_df[target_feature]\n",
    "req_test = test_df[req_feature]\n",
    "\n",
    "user_req_df = pd.DataFrame({'runtime_pred': req_test, 'runtime_act': y_test})\n",
    "filename = f'fugaku_user_req_execution_time_pred_vs_act_df.pkl'\n",
    "user_req_df.to_pickle(filename)\n",
    "\n"
   ]
  },
  {
   "cell_type": "code",
   "execution_count": null,
   "id": "1bbc36c4",
   "metadata": {},
   "outputs": [],
   "source": []
  },
  {
   "cell_type": "code",
   "execution_count": null,
   "id": "3fead4c8",
   "metadata": {},
   "outputs": [],
   "source": []
  }
 ],
 "metadata": {
  "kernelspec": {
   "display_name": "Python 3",
   "language": "python",
   "name": "python3"
  },
  "language_info": {
   "codemirror_mode": {
    "name": "ipython",
    "version": 3
   },
   "file_extension": ".py",
   "mimetype": "text/x-python",
   "name": "python",
   "nbconvert_exporter": "python",
   "pygments_lexer": "ipython3",
   "version": "3.6.5"
  }
 },
 "nbformat": 4,
 "nbformat_minor": 5
}
