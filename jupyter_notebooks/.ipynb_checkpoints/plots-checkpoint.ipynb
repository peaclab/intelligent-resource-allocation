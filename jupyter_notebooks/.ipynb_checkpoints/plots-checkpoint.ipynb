{
 "cells": [
  {
   "cell_type": "code",
   "execution_count": null,
   "id": "7633b98f",
   "metadata": {},
   "outputs": [],
   "source": [
    "# Plotting RMSE, MAE and R^2 values\n",
    "\n",
    "results_dict = {\n",
    "    'BU SCC': {\n",
    "        'rmse_user': 160580.93729667366,\n",
    "        'mae_user': 77523.79179705823,\n",
    "        'r2_user': -12.68925495850735 ,\n",
    "        'rmse_single': 19700.5794,\n",
    "        'mae_single': 3816.0495 ,\n",
    "        'r2_single': 0.7807 ,\n",
    "        'rmse_cluster': 12441.2831 ,\n",
    "        'mae_cluster': 2233.0192,\n",
    "        'r2_cluster': 0.7690\n",
    "    },\n",
    "    'Fugaku': {\n",
    "        'rmse_user': 68624.15590300859,\n",
    "        'mae_user': 28979.86198184158,\n",
    "        'r2_user': -4.805470812282336 ,\n",
    "        'rmse_single': 6789.1658,\n",
    "        'mae_single': 2144.1242,\n",
    "        'r2_single': 0.9420,\n",
    "        'rmse_cluster': 1140.1200,\n",
    "        'mae_cluster': 397.2423,\n",
    "        'r2_cluster': 0.8166\n",
    "    },\n",
    "    'M100 CINECA': {\n",
    "        'rmse_user': 61646.038858006534 ,\n",
    "        'mae_user': 43733.74286688644,\n",
    "        'r2_user': -8.78943969634911,\n",
    "        'rmse_single':6141.5020 ,\n",
    "        'mae_single': 2319.5271,\n",
    "        'r2_single': 0.9033,\n",
    "        'rmse_cluster': 5165.4006,\n",
    "        'mae_cluster': 1895.9415,\n",
    "        'r2_cluster': 0.5787\n",
    "    }\n",
    "    'NREL Eagle': {\n",
    "        'rmse_user': 85349.32646633487,\n",
    "        'mae_user': 38166.1288372081,\n",
    "        'r2_user': -12.010678469468951,\n",
    "        'rmse_single': 13403.9084,\n",
    "        'mae_single': 2941.0382,\n",
    "        'r2_single': 0.6877,\n",
    "        'rmse_cluster': 12716.9522,\n",
    "        'mae_cluster': 2884.8035,\n",
    "        'r2_cluster': 0.7213\n",
    "    }\n",
    "}\n",
    "\n",
    "\n",
    "\n"
   ]
  }
 ],
 "metadata": {
  "kernelspec": {
   "display_name": "Python 3",
   "language": "python",
   "name": "python3"
  },
  "language_info": {
   "codemirror_mode": {
    "name": "ipython",
    "version": 3
   },
   "file_extension": ".py",
   "mimetype": "text/x-python",
   "name": "python",
   "nbconvert_exporter": "python",
   "pygments_lexer": "ipython3",
   "version": "3.6.5"
  }
 },
 "nbformat": 4,
 "nbformat_minor": 5
}
