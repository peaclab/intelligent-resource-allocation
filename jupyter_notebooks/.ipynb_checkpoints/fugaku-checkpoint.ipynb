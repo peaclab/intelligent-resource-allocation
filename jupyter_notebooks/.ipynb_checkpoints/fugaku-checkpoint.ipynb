{
 "cells": [
  {
   "cell_type": "code",
   "execution_count": 26,
   "id": "20287c3e",
   "metadata": {},
   "outputs": [],
   "source": [
    "# Data manipulation and file I/O\n",
    "import os\n",
    "import pandas as pd\n",
    "import numpy as np\n",
    "import pyarrow.parquet as pq\n",
    "\n",
    "# Machine learning\n",
    "from sklearn.preprocessing import LabelEncoder, StandardScaler\n",
    "from sklearn.decomposition import PCA\n",
    "from sklearn.metrics import mean_squared_error, mean_absolute_error, r2_score\n",
    "from xgboost import XGBRegressor\n",
    "\n",
    "# Visualization\n",
    "import matplotlib.pyplot as plt\n",
    "import seaborn as sns\n",
    "from matplotlib import cm\n",
    "\n",
    "# Utilities\n",
    "import itertools\n",
    "import xgboost as xgb\n",
    "\n",
    "import sys\n",
    "sys.path.append('/projectnb/peaclab-mon/boztop/resource-allocation/python_scripts')\n",
    "\n",
    "\n",
    "from kmeans_clustering import cluster_create_sub_dataframes\n",
    "from plot_functions import plot_everything,plot_kde_results,plot_raw_results\n",
    "from feature_selection import (\n",
    "    xgboost_feature_selection, \n",
    "    random_forest_feature_importance, \n",
    "    correlation_feature_selection\n",
    ")\n",
    "from ml_model_training import train_xgboost\n"
   ]
  },
  {
   "cell_type": "code",
   "execution_count": 2,
   "id": "d31b4db4",
   "metadata": {},
   "outputs": [],
   "source": [
    "directory = '/projectnb/peaclab-mon/boztop/resource-allocation/datasets/fugaku/24_04.parquet'"
   ]
  },
  {
   "cell_type": "code",
   "execution_count": null,
   "id": "d17b2910",
   "metadata": {},
   "outputs": [],
   "source": [
    "df = pd.read_parquet(directory)"
   ]
  },
  {
   "cell_type": "code",
   "execution_count": null,
   "id": "51e3ebe5",
   "metadata": {},
   "outputs": [],
   "source": [
    "df.columns"
   ]
  },
  {
   "cell_type": "code",
   "execution_count": null,
   "id": "750a5e28",
   "metadata": {},
   "outputs": [],
   "source": [
    "df['adt'] = pd.to_datetime(df['adt'])\n",
    "df['sdt'] = pd.to_datetime(df['sdt'])\n",
    "df['edt'] = pd.to_datetime(df['edt'])\n",
    "\n",
    "df['wait_time'] = (df['sdt'] - df['adt']).dt.total_seconds()\n",
    "df['run_time'] = (df['edt'] - df['sdt']).dt.total_seconds()\n"
   ]
  },
  {
   "cell_type": "code",
   "execution_count": null,
   "id": "a147be6f",
   "metadata": {},
   "outputs": [],
   "source": [
    "# --- LET'S MAKE SOME OBSERVATIONS! ---\n",
    "print(f\"Total number of jobs in the dataset: {df.shape[0]}\")\n",
    "\n",
    "print(f\"Number of unique users: {df['usr'].nunique()}\")\n",
    "      \n",
    "print(f\"Number of unique job names: {df['jnam'].nunique()}\")\n",
    "      \n",
    "print(f\"Number of unique state of jobs: {df['exit state'].nunique()}\")  \n",
    "      \n",
    "print(\"Categorization of jobs (memory or compute bound):\")  \n",
    "print(df['pclass'].value_counts())\n",
    "      \n",
    "print(\"Success and failure of jobs:\")  \n",
    "print(df['exit state'].value_counts())\n",
    "\n"
   ]
  },
  {
   "cell_type": "code",
   "execution_count": null,
   "id": "9daaf6bd",
   "metadata": {},
   "outputs": [],
   "source": [
    "print(\"The unique jobs:\")  \n",
    "print(\"*******************\")      \n",
    "print(df['jnam'].value_counts())\n"
   ]
  },
  {
   "cell_type": "code",
   "execution_count": null,
   "id": "532a3431",
   "metadata": {},
   "outputs": [],
   "source": [
    "sorted_df = df.sort_values(by='edt')\n",
    "\n",
    "sorted_df"
   ]
  },
  {
   "cell_type": "markdown",
   "id": "ce0582af",
   "metadata": {},
   "source": [
    "# Different Train-Test Time Experiments"
   ]
  },
  {
   "cell_type": "code",
   "execution_count": 5,
   "id": "854534d9",
   "metadata": {},
   "outputs": [],
   "source": [
    "file_paths = {\n",
    "    '24_01': '/projectnb/peaclab-mon/boztop/resource-allocation/datasets/fugaku/24_01.parquet',\n",
    "    '24_02': '/projectnb/peaclab-mon/boztop/resource-allocation/datasets/fugaku/24_02.parquet',\n",
    "    '24_03': '/projectnb/peaclab-mon/boztop/resource-allocation/datasets/fugaku/24_03.parquet',\n",
    "    '24_04': '/projectnb/peaclab-mon/boztop/resource-allocation/datasets/fugaku/24_04.parquet',\n",
    "    '23_12': '/projectnb/peaclab-mon/boztop/resource-allocation/datasets/fugaku/23_12.parquet',\n",
    "    '23_11': '/projectnb/peaclab-mon/boztop/resource-allocation/datasets/fugaku/23_11.parquet',\n",
    "    '23_10': '/projectnb/peaclab-mon/boztop/resource-allocation/datasets/fugaku/23_10.parquet',\n",
    "    '23_09': '/projectnb/peaclab-mon/boztop/resource-allocation/datasets/fugaku/23_09.parquet',\n",
    "    '23_08': '/projectnb/peaclab-mon/boztop/resource-allocation/datasets/fugaku/23_08.parquet',\n",
    "    '23_07': '/projectnb/peaclab-mon/boztop/resource-allocation/datasets/fugaku/23_07.parquet',\n",
    "    '23_06': '/projectnb/peaclab-mon/boztop/resource-allocation/datasets/fugaku/23_06.parquet',\n",
    "    '23_05': '/projectnb/peaclab-mon/boztop/resource-allocation/datasets/fugaku/23_05.parquet',\n",
    "    '23_04': '/projectnb/peaclab-mon/boztop/resource-allocation/datasets/fugaku/23_04.parquet',\n",
    "    '23_03': '/projectnb/peaclab-mon/boztop/resource-allocation/datasets/fugaku/23_03.parquet',\n",
    "    '23_02': '/projectnb/peaclab-mon/boztop/resource-allocation/datasets/fugaku/23_02.parquet',\n",
    "    '23_01': '/projectnb/peaclab-mon/boztop/resource-allocation/datasets/fugaku/23_01.parquet',\n",
    "}\n"
   ]
  },
  {
   "cell_type": "code",
   "execution_count": 6,
   "id": "f9e63785",
   "metadata": {},
   "outputs": [],
   "source": [
    "sorted_dataframes = {}\n",
    "\n",
    "for date, path in file_paths.items():\n",
    "    df = pd.read_parquet(path)\n",
    "\n",
    "    df['adt'] = pd.to_datetime(df['adt'])\n",
    "    df['sdt'] = pd.to_datetime(df['sdt'])\n",
    "    df['edt'] = pd.to_datetime(df['edt'])\n",
    "    \n",
    "    df['wait_time'] = (df['sdt'] - df['adt']).dt.total_seconds()\n",
    "    df['run_time'] = (df['edt'] - df['sdt']).dt.total_seconds()\n",
    "    \n",
    "    sorted_df = df.sort_values(by='edt')\n",
    "    \n",
    "    sorted_dataframes[date] = sorted_df\n",
    "\n"
   ]
  },
  {
   "cell_type": "code",
   "execution_count": 34,
   "id": "cc5ed28a",
   "metadata": {},
   "outputs": [],
   "source": [
    "# Manually selecting test and train dataframes\n",
    "\n",
    "def train_manual_split(df_train, df_test, df_name, target_feature, train_features, requested_feature):\n",
    "    \n",
    "    df_train.loc[:, 'lagged_target'] = df_train[target_feature].shift(1) #currently shifting by 1\n",
    "    df_train = df_train.dropna() \n",
    "    \n",
    "    df_test.loc[:, 'lagged_target'] = df_test[target_feature].shift(1) #currently shifting by 1\n",
    "    df_test = df_test.dropna() \n",
    "    \n",
    "    features_with_lag = train_features + ['lagged_target']   \n",
    "    \n",
    "    \n",
    "    X_train = df_train[features_with_lag]\n",
    "    y_train = df_train[target_feature]\n",
    "    req_train = df_train[requested_feature]\n",
    "    \n",
    "    X_test = df_test[features_with_lag]\n",
    "    y_test = df_test[target_feature]\n",
    "    req_test = df_test[requested_feature]\n",
    "    \n",
    "        \n",
    "    model = XGBRegressor(random_state=42)\n",
    "    model.fit(X_train, y_train)\n",
    "    y_pred = model.predict(X_test)\n",
    "\n",
    "    #Some metrics for comparison\n",
    "    mse = mean_squared_error(y_test, y_pred)\n",
    "    rmse = np.sqrt(mse)\n",
    "    mae = mean_absolute_error(y_test, y_pred)\n",
    "    r2 = r2_score(y_test, y_pred)\n",
    "    plot_raw_results(y_pred, y_test, req_test, target_feature, df_name)\n",
    "\n",
    "    # Overestimation factor\n",
    "    requested_over_target = req_test / y_test\n",
    "    predicted_over_target = y_pred / y_test\n",
    "    plot_kde_results(requested_over_target, predicted_over_target, target_feature, df_name)\n",
    "    \n",
    "    return rmse, mae, r2\n"
   ]
  },
  {
   "cell_type": "code",
   "execution_count": 37,
   "id": "c4ebfe56",
   "metadata": {},
   "outputs": [
    {
     "name": "stderr",
     "output_type": "stream",
     "text": [
      "/project/peaclab-mon/monitoring_venv/lib/python3.6/site-packages/ipykernel_launcher.py:17: SettingWithCopyWarning: \n",
      "A value is trying to be set on a copy of a slice from a DataFrame.\n",
      "Try using .loc[row_indexer,col_indexer] = value instead\n",
      "\n",
      "See the caveats in the documentation: https://pandas.pydata.org/pandas-docs/stable/user_guide/indexing.html#returning-a-view-versus-a-copy\n",
      "/project/peaclab-mon/monitoring_venv/lib/python3.6/site-packages/ipykernel_launcher.py:21: SettingWithCopyWarning: \n",
      "A value is trying to be set on a copy of a slice from a DataFrame.\n",
      "Try using .loc[row_indexer,col_indexer] = value instead\n",
      "\n",
      "See the caveats in the documentation: https://pandas.pydata.org/pandas-docs/stable/user_guide/indexing.html#returning-a-view-versus-a-copy\n",
      "/project/peaclab-mon/monitoring_venv/lib/python3.6/site-packages/pandas/core/indexing.py:1596: SettingWithCopyWarning: \n",
      "A value is trying to be set on a copy of a slice from a DataFrame.\n",
      "Try using .loc[row_indexer,col_indexer] = value instead\n",
      "\n",
      "See the caveats in the documentation: https://pandas.pydata.org/pandas-docs/stable/user_guide/indexing.html#returning-a-view-versus-a-copy\n",
      "  self.obj[key] = _infer_fill_value(value)\n",
      "/project/peaclab-mon/monitoring_venv/lib/python3.6/site-packages/pandas/core/indexing.py:1743: SettingWithCopyWarning: \n",
      "A value is trying to be set on a copy of a slice from a DataFrame.\n",
      "Try using .loc[row_indexer,col_indexer] = value instead\n",
      "\n",
      "See the caveats in the documentation: https://pandas.pydata.org/pandas-docs/stable/user_guide/indexing.html#returning-a-view-versus-a-copy\n",
      "  isetter(ilocs[0], value)\n",
      "/project/peaclab-mon/monitoring_venv/lib/python3.6/site-packages/pandas/core/indexing.py:1596: SettingWithCopyWarning: \n",
      "A value is trying to be set on a copy of a slice from a DataFrame.\n",
      "Try using .loc[row_indexer,col_indexer] = value instead\n",
      "\n",
      "See the caveats in the documentation: https://pandas.pydata.org/pandas-docs/stable/user_guide/indexing.html#returning-a-view-versus-a-copy\n",
      "  self.obj[key] = _infer_fill_value(value)\n",
      "/project/peaclab-mon/monitoring_venv/lib/python3.6/site-packages/pandas/core/indexing.py:1743: SettingWithCopyWarning: \n",
      "A value is trying to be set on a copy of a slice from a DataFrame.\n",
      "Try using .loc[row_indexer,col_indexer] = value instead\n",
      "\n",
      "See the caveats in the documentation: https://pandas.pydata.org/pandas-docs/stable/user_guide/indexing.html#returning-a-view-versus-a-copy\n",
      "  isetter(ilocs[0], value)\n",
      "/project/peaclab-mon/monitoring_venv/lib/python3.6/site-packages/matplotlib/cbook/__init__.py:1402: FutureWarning: Support for multi-dimensional indexing (e.g. `obj[:, None]`) is deprecated and will be removed in a future version.  Convert to a numpy array before indexing instead.\n",
      "  x[:, None]\n",
      "/project/peaclab-mon/monitoring_venv/lib/python3.6/site-packages/matplotlib/axes/_base.py:276: FutureWarning: Support for multi-dimensional indexing (e.g. `obj[:, None]`) is deprecated and will be removed in a future version.  Convert to a numpy array before indexing instead.\n",
      "  x = x[:, np.newaxis]\n",
      "/project/peaclab-mon/monitoring_venv/lib/python3.6/site-packages/matplotlib/axes/_base.py:278: FutureWarning: Support for multi-dimensional indexing (e.g. `obj[:, None]`) is deprecated and will be removed in a future version.  Convert to a numpy array before indexing instead.\n",
      "  y = y[:, np.newaxis]\n"
     ]
    },
    {
     "data": {
      "image/png": "[encoded data removed]",
      "text/plain": [
       "<Figure size 720x432 with 1 Axes>"
      ]
     },
     "metadata": {
      "needs_background": "light"
     },
     "output_type": "display_data"
    },
    {
     "data": {
      "image/png": "[encoded data removed]",
      "text/plain": [
       "<Figure size 720x432 with 1 Axes>"
      ]
     },
     "metadata": {
      "needs_background": "light"
     },
     "output_type": "display_data"
    },
    {
     "data": {
      "text/plain": [
       "(35573.43965308666, 21401.230676306863, 0.5787254346326952)"
      ]
     },
     "execution_count": 37,
     "metadata": {},
     "output_type": "execute_result"
    }
   ],
   "source": [
    "# Train with 4 weeks, test with 1 day:\n",
    "df = sorted_dataframes['24_04'].copy()\n",
    "\n",
    "start_time = df['edt'].min()\n",
    "four_weeks_end = start_time + pd.Timedelta(weeks=4)\n",
    "last_day_end = start_time + pd.Timedelta(weeks=4) + pd.Timedelta(days=1)\n",
    "\n",
    "\n",
    "df_four_weeks = df[(df['edt'] >= start_time) & (df['edt'] < four_weeks_end)]\n",
    "df_one_day = df[(df['edt'] >= four_weeks_end) & (df['edt'] < last_day_end)]\n",
    "\n",
    "numerical_submission_features = ['cnumr', 'nnumr', 'elpl', 'mszl', 'freq_req']\n",
    "categorical_submission_features = ['jid', 'usr', 'jnam', 'jobenv_req']\n",
    "\n",
    "label_encoders = {col: LabelEncoder() for col in categorical_submission_features}\n",
    "for col in categorical_submission_features:\n",
    "    df_four_weeks[col] = label_encoders[col].fit_transform(df_four_weeks[col])\n",
    "    \n",
    "label_encoders = {col: LabelEncoder() for col in categorical_submission_features}\n",
    "for col in categorical_submission_features:\n",
    "    df_one_day[col] = label_encoders[col].fit_transform(df_one_day[col])\n",
    "    \n",
    "train_features = ['cnumr', 'nnumr', 'elpl', 'mszl', 'freq_req', 'jid', 'usr', 'jnam', 'jobenv_req']\n",
    "train_manual_split(df_four_weeks,df_one_day, 'FUGAKU Dataset', 'duration', train_features , 'elpl')\n"
   ]
  },
  {
   "cell_type": "code",
   "execution_count": 38,
   "id": "ee79e1b1",
   "metadata": {},
   "outputs": [
    {
     "name": "stderr",
     "output_type": "stream",
     "text": [
      "/project/peaclab-mon/monitoring_venv/lib/python3.6/site-packages/ipykernel_launcher.py:8: SettingWithCopyWarning: \n",
      "A value is trying to be set on a copy of a slice from a DataFrame.\n",
      "Try using .loc[row_indexer,col_indexer] = value instead\n",
      "\n",
      "See the caveats in the documentation: https://pandas.pydata.org/pandas-docs/stable/user_guide/indexing.html#returning-a-view-versus-a-copy\n",
      "  \n",
      "/project/peaclab-mon/monitoring_venv/lib/python3.6/site-packages/pandas/core/indexing.py:1596: SettingWithCopyWarning: \n",
      "A value is trying to be set on a copy of a slice from a DataFrame.\n",
      "Try using .loc[row_indexer,col_indexer] = value instead\n",
      "\n",
      "See the caveats in the documentation: https://pandas.pydata.org/pandas-docs/stable/user_guide/indexing.html#returning-a-view-versus-a-copy\n",
      "  self.obj[key] = _infer_fill_value(value)\n",
      "/project/peaclab-mon/monitoring_venv/lib/python3.6/site-packages/pandas/core/indexing.py:1743: SettingWithCopyWarning: \n",
      "A value is trying to be set on a copy of a slice from a DataFrame.\n",
      "Try using .loc[row_indexer,col_indexer] = value instead\n",
      "\n",
      "See the caveats in the documentation: https://pandas.pydata.org/pandas-docs/stable/user_guide/indexing.html#returning-a-view-versus-a-copy\n",
      "  isetter(ilocs[0], value)\n",
      "/project/peaclab-mon/monitoring_venv/lib/python3.6/site-packages/pandas/core/indexing.py:1743: SettingWithCopyWarning: \n",
      "A value is trying to be set on a copy of a slice from a DataFrame.\n",
      "Try using .loc[row_indexer,col_indexer] = value instead\n",
      "\n",
      "See the caveats in the documentation: https://pandas.pydata.org/pandas-docs/stable/user_guide/indexing.html#returning-a-view-versus-a-copy\n",
      "  isetter(ilocs[0], value)\n",
      "/project/peaclab-mon/monitoring_venv/lib/python3.6/site-packages/matplotlib/cbook/__init__.py:1402: FutureWarning: Support for multi-dimensional indexing (e.g. `obj[:, None]`) is deprecated and will be removed in a future version.  Convert to a numpy array before indexing instead.\n",
      "  x[:, None]\n",
      "/project/peaclab-mon/monitoring_venv/lib/python3.6/site-packages/matplotlib/axes/_base.py:276: FutureWarning: Support for multi-dimensional indexing (e.g. `obj[:, None]`) is deprecated and will be removed in a future version.  Convert to a numpy array before indexing instead.\n",
      "  x = x[:, np.newaxis]\n",
      "/project/peaclab-mon/monitoring_venv/lib/python3.6/site-packages/matplotlib/axes/_base.py:278: FutureWarning: Support for multi-dimensional indexing (e.g. `obj[:, None]`) is deprecated and will be removed in a future version.  Convert to a numpy array before indexing instead.\n",
      "  y = y[:, np.newaxis]\n"
     ]
    },
    {
     "data": {
      "image/png": "[encoded data removed]",
      "text/plain": [
       "<Figure size 720x432 with 1 Axes>"
      ]
     },
     "metadata": {
      "needs_background": "light"
     },
     "output_type": "display_data"
    },
    {
     "data": {
      "image/png": "[encoded data removed]",
      "text/plain": [
       "<Figure size 720x432 with 1 Axes>"
      ]
     },
     "metadata": {
      "needs_background": "light"
     },
     "output_type": "display_data"
    },
    {
     "data": {
      "text/plain": [
       "(39672.49405144596, 22480.16696082999, 0.4760467640762768)"
      ]
     },
     "execution_count": 38,
     "metadata": {},
     "output_type": "execute_result"
    }
   ],
   "source": [
    "# Train and test with 1 day\n",
    "second_last_day_start = start_time + pd.Timedelta(weeks=4) - pd.Timedelta(days=1)\n",
    "\n",
    "df_second_last_day = df[(df['edt'] >= second_last_day_start) & (df['edt'] < four_weeks_end)]\n",
    "\n",
    "label_encoders = {col: LabelEncoder() for col in categorical_submission_features}\n",
    "for col in categorical_submission_features:\n",
    "    df_second_last_day[col] = label_encoders[col].fit_transform(df_second_last_day[col])\n",
    "    \n",
    "train_features = ['cnumr', 'nnumr', 'elpl', 'mszl', 'freq_req', 'jid', 'usr', 'jnam', 'jobenv_req']\n",
    "train_manual_split(df_second_last_day,df_one_day, 'FUGAKU Dataset', 'duration', train_features , 'elpl')\n"
   ]
  },
  {
   "cell_type": "code",
   "execution_count": null,
   "id": "12fe0f7d",
   "metadata": {},
   "outputs": [],
   "source": []
  },
  {
   "cell_type": "markdown",
   "id": "20b88b30",
   "metadata": {},
   "source": [
    "# Visualize Wait Time"
   ]
  },
  {
   "cell_type": "code",
   "execution_count": null,
   "id": "b99a55bc",
   "metadata": {},
   "outputs": [],
   "source": [
    "# Demonstrating the queue wait time increases with increasing wait time\n",
    "\n",
    "bins = [0, 0.1, 1, 10, 100]\n",
    "labels = ['[0, 0.1]', '(0.1, 1]', '(1, 10]', '(10,100]']\n",
    "\n",
    "df['wallclock_req_hour'] = df['elpl'] / 3600\n",
    "df['wait_time_hour'] = df['wait_time'] / 3600\n",
    "\n",
    "\n",
    "df['wallclock_category'] = pd.cut(df['wallclock_req_hour'], bins=bins, labels=labels)\n",
    "\n",
    "wait_time_means = df.groupby('wallclock_category')['wait_time_hour'].mean()\n",
    "\n",
    "plt.figure(figsize=(10, 6))\n",
    "wait_time_means.plot(kind='bar', color='#FFD700', edgecolor='black')\n",
    "\n",
    "# Adding labels and title\n",
    "plt.xlabel('Requested Wallclock Time (hours)', fontsize=20)\n",
    "plt.ylabel('Average Wait Time (hours)', fontsize=20)\n",
    "plt.title('FUGAKU Dataset: Average Wait Time by Requested Wallclock Time', fontsize=20)\n",
    "plt.grid(True)\n",
    "\n",
    "# Show the plot\n",
    "plt.xticks(rotation=45)\n",
    "plt.xticks(fontsize=16)\n",
    "plt.show()\n",
    "\n",
    "\n"
   ]
  },
  {
   "cell_type": "code",
   "execution_count": null,
   "id": "43871fd1",
   "metadata": {},
   "outputs": [],
   "source": [
    "df_success = sorted_df[sorted_df['exit state'] == 'completed']\n",
    "df_failure = sorted_df[sorted_df['exit state'] == 'failed']   "
   ]
  },
  {
   "cell_type": "code",
   "execution_count": null,
   "id": "6559169c",
   "metadata": {},
   "outputs": [],
   "source": [
    "colors = [\n",
    "    'blue', 'green', 'red', 'cyan', 'magenta', 'yellow', 'black', 'white',\n",
    "    'orange', 'purple', 'brown', 'pink', 'lime', 'teal', 'indigo', 'violet',\n",
    "    '#FF6347', '#4682B4', '#32CD32', '#FFD700', '#6A5ACD', '#FF4500', '#DA70D6'\n",
    "]"
   ]
  },
  {
   "cell_type": "markdown",
   "id": "2ec11148",
   "metadata": {},
   "source": [
    "# Finding Optimal Training Feature Set"
   ]
  },
  {
   "cell_type": "code",
   "execution_count": null,
   "id": "28200761",
   "metadata": {},
   "outputs": [],
   "source": [
    "df_success.columns"
   ]
  },
  {
   "cell_type": "code",
   "execution_count": null,
   "id": "0d768b2a",
   "metadata": {},
   "outputs": [],
   "source": [
    "numerical_submission_features = ['cnumr', 'nnumr', 'elpl', 'mszl', 'freq_req']\n",
    "\n",
    "categorical_submission_features = ['jid', 'usr', 'jnam', 'jobenv_req']\n",
    "label_encoders = {col: LabelEncoder() for col in categorical_submission_features}\n",
    "\n",
    "for col in categorical_submission_features:\n",
    "    df_success[col] = label_encoders[col].fit_transform(df_success[col])"
   ]
  },
  {
   "cell_type": "markdown",
   "id": "e96abc03",
   "metadata": {},
   "source": [
    "# Execution Time Prediction"
   ]
  },
  {
   "cell_type": "code",
   "execution_count": null,
   "id": "9932b2ea",
   "metadata": {},
   "outputs": [],
   "source": [
    "# 1. Feature Selection with XGBoost\n",
    "\n",
    "xgboost_feature_selection(['cnumr', 'nnumr', 'elpl', 'mszl', 'freq_req', 'jid', 'usr', 'jnam', 'jobenv_req'], 'duration', df_success, 'RMSE Values for Each Input Feature Combination', 'RMSE (seconds)', 7,9)\n",
    "\n",
    "\n"
   ]
  },
  {
   "cell_type": "code",
   "execution_count": null,
   "id": "dd114024",
   "metadata": {},
   "outputs": [],
   "source": [
    "# 2. Feature Selection with Random Forest\n",
    "random_forest_feature_importance(['cnumr', 'nnumr', 'elpl', 'mszl', 'freq_req', 'jid', 'usr', 'jnam', 'jobenv_req'], 'duration', df_success, top_k=6)\n",
    "\n"
   ]
  },
  {
   "cell_type": "code",
   "execution_count": null,
   "id": "3f31df2b",
   "metadata": {},
   "outputs": [],
   "source": [
    "# 3. Feature Selection with Pearson Correlation\n",
    "correlation_feature_selection(['cnumr', 'nnumr', 'elpl', 'mszl', 'freq_req', 'jid', 'usr', 'jnam', 'jobenv_req'], 'duration', df_success, method='pearson', top_n=6)\n",
    "\n"
   ]
  },
  {
   "cell_type": "markdown",
   "id": "336bd9d1",
   "metadata": {},
   "source": [
    "# CPU Prediction"
   ]
  },
  {
   "cell_type": "code",
   "execution_count": null,
   "id": "3afda0d6",
   "metadata": {},
   "outputs": [],
   "source": [
    "# 1. Feature Selection with XGBoost\n",
    "\n",
    "xgboost_feature_selection(['cnumr', 'nnumr', 'elpl', 'mszl', 'freq_req', 'jid', 'usr', 'jnam', 'jobenv_req'], 'cnumut', df_success, 'RMSE Values for Each Input Feature Combination', 'RMSE (# of CPU Cores)', 7,9)\n",
    "\n",
    "\n"
   ]
  },
  {
   "cell_type": "code",
   "execution_count": null,
   "id": "7f010f0d",
   "metadata": {},
   "outputs": [],
   "source": [
    "# 2. Feature Selection with Random Forest\n",
    "random_forest_feature_importance(['cnumr', 'nnumr', 'elpl', 'mszl', 'freq_req', 'jid', 'usr', 'jnam', 'jobenv_req'], 'cnumut', df_success, top_k=6)\n",
    "\n"
   ]
  },
  {
   "cell_type": "code",
   "execution_count": null,
   "id": "ad8aa40f",
   "metadata": {},
   "outputs": [],
   "source": [
    "# 3. Feature Selection with Pearson Correlation\n",
    "correlation_feature_selection(['cnumr', 'nnumr', 'elpl', 'mszl', 'freq_req', 'jid', 'usr', 'jnam', 'jobenv_req'], 'cnumut', df_success, method='pearson', top_n=5)\n",
    "\n"
   ]
  },
  {
   "cell_type": "markdown",
   "id": "3416e5a9",
   "metadata": {},
   "source": [
    "# Memory Prediction"
   ]
  },
  {
   "cell_type": "code",
   "execution_count": null,
   "id": "2cdca2d5",
   "metadata": {},
   "outputs": [],
   "source": [
    "# 1. Feature Selection with XGBoost\n",
    "\n",
    "xgboost_feature_selection(['cnumr', 'nnumr', 'elpl', 'mszl', 'freq_req', 'jid', 'usr', 'jnam', 'jobenv_req'], 'mmszu', df_success, 'RMSE Values for Each Input Feature Combination', 'RMSE (bytes)', 7,9)\n",
    "\n",
    "\n"
   ]
  },
  {
   "cell_type": "code",
   "execution_count": null,
   "id": "4308ce56",
   "metadata": {},
   "outputs": [],
   "source": [
    "# 2. Feature Selection with Random Forest\n",
    "random_forest_feature_importance(['cnumr', 'nnumr', 'elpl', 'mszl', 'freq_req', 'jid', 'usr', 'jnam', 'jobenv_req'], 'mmszu', df_success, top_k=6)\n",
    "\n"
   ]
  },
  {
   "cell_type": "code",
   "execution_count": null,
   "id": "5c16a76a",
   "metadata": {},
   "outputs": [],
   "source": [
    "# 3. Feature Selection with Pearson Correlation\n",
    "correlation_feature_selection(['cnumr', 'nnumr', 'elpl', 'mszl', 'freq_req', 'jid', 'usr', 'jnam', 'jobenv_req'], 'mmszu', df_success, method='pearson', top_n=5)\n",
    "\n"
   ]
  },
  {
   "cell_type": "markdown",
   "id": "dba6da24",
   "metadata": {},
   "source": [
    "# Number of Nodes Prediction"
   ]
  },
  {
   "cell_type": "code",
   "execution_count": null,
   "id": "41667bf9",
   "metadata": {},
   "outputs": [],
   "source": [
    "# 1. Feature Selection with XGBoost\n",
    "\n",
    "xgboost_feature_selection(['cnumr', 'nnumr', 'elpl', 'mszl', 'freq_req', 'jid', 'usr', 'jnam', 'jobenv_req'], 'nnumu', df_success, 'RMSE Values for Each Input Feature Combination', 'RMSE (# of Nodes)', 7,9)\n",
    "\n",
    "\n"
   ]
  },
  {
   "cell_type": "code",
   "execution_count": null,
   "id": "d54878ec",
   "metadata": {},
   "outputs": [],
   "source": [
    "# 2. Feature Selection with Random Forest\n",
    "random_forest_feature_importance(['cnumr', 'nnumr', 'elpl', 'mszl', 'freq_req', 'jid', 'usr', 'jnam', 'jobenv_req'], 'nnumu', df_success, top_k=6)\n",
    "\n"
   ]
  },
  {
   "cell_type": "code",
   "execution_count": null,
   "id": "90b70a37",
   "metadata": {},
   "outputs": [],
   "source": [
    "# 3. Feature Selection with Pearson Correlation\n",
    "correlation_feature_selection(['cnumr', 'nnumr', 'elpl', 'mszl', 'freq_req', 'jid', 'usr', 'jnam', 'jobenv_req'], 'nnumu', df_success, method='pearson', top_n=5)\n",
    "\n"
   ]
  },
  {
   "cell_type": "code",
   "execution_count": null,
   "id": "fdef07b0",
   "metadata": {},
   "outputs": [],
   "source": []
  },
  {
   "cell_type": "code",
   "execution_count": null,
   "id": "a2fe599f",
   "metadata": {},
   "outputs": [],
   "source": []
  },
  {
   "cell_type": "markdown",
   "id": "d597389a",
   "metadata": {},
   "source": [
    "# XGBoost Experiments"
   ]
  },
  {
   "cell_type": "markdown",
   "id": "94f743b1",
   "metadata": {},
   "source": [
    "# Execution Time Prediction"
   ]
  },
  {
   "cell_type": "code",
   "execution_count": null,
   "id": "2db4040a",
   "metadata": {},
   "outputs": [],
   "source": [
    "rmse = np.sqrt(((df_success['duration'] - df['elpl']) ** 2).mean())\n",
    "\n",
    "print(f\"RMSE: {rmse}\")"
   ]
  },
  {
   "cell_type": "code",
   "execution_count": null,
   "id": "baf7dda1",
   "metadata": {},
   "outputs": [],
   "source": [
    "# No feature selection\n",
    "\n",
    "train_features = ['cnumr', 'nnumr', 'elpl', 'mszl', 'freq_req','jid', 'usr', 'jnam', 'jobenv_req' ]\n",
    "rmse, mae, r2, y_test, y_pred, req_test = train_xgboost(df_success, 'Fugaku Dataset', 'duration', train_features , 'elpl')\n",
    "\n",
    "print(f\"RMSE: {rmse:.4f}\")\n",
    "print(f\"MAE: {mae:.4f}\")\n",
    "print(f\"R^2: {r2:.4f}\")\n",
    "\n",
    "\n",
    "# Clustering\n",
    "sub_dfs = cluster_create_sub_dataframes(df_success, train_features , ['duration'], 10)\n",
    "\n",
    "rmse_list = []\n",
    "mae_list = []\n",
    "r2_list = []\n",
    "\n",
    "metrics_data = []\n",
    "overprediction_sums = []\n",
    "\n",
    "for i, sub_df in enumerate(sub_dfs):\n",
    "    print(f\"Processing cluster {i+1}/{len(sub_dfs)}\")\n",
    "    \n",
    "    rmse, mae, r2, y_test, y_pred, req_test= train_xgboost(sub_df, 'Fugaku Dataset', 'duration', train_features, 'elpl')\n",
    "    \n",
    "    if rmse is not None:\n",
    "        rmse_list.append(rmse)\n",
    "        mae_list.append(mae)\n",
    "        r2_list.append(r2)\n",
    "\n",
    "        total_jobs = len(y_test)\n",
    "        requested_gt_target = (req_test > y_test).sum()\n",
    "        predicted_lt_actual = (y_pred < y_test).sum()\n",
    "        predicted_gt_actual = (y_pred > y_test).sum()\n",
    "\n",
    "        op1 = y_pred > y_test\n",
    "        op2 = req_test > y_test\n",
    "        \n",
    "        sum_predicted_minus_actual = (y_pred[op1] - y_test[op1]).sum()\n",
    "        sum_requested_minus_actual = (req_test[op2] - y_test[op2]).sum()\n",
    "\n",
    "        metrics_data.append([i + 1, total_jobs, requested_gt_target, predicted_lt_actual, predicted_gt_actual])\n",
    "        overprediction_sums.append([sum_predicted_minus_actual, sum_requested_minus_actual])\n",
    "\n",
    "        \n",
    "\n",
    "\n",
    "rmse = np.mean(rmse_list)\n",
    "print(f\"Average RMSE for Clustering: {rmse:.4f}\")\n",
    "mae = np.mean(mae_list)\n",
    "print(f\"Average MAE for Clustering: {mae:.4f}\")\n",
    "r2 = np.mean(r2_list)\n",
    "print(f\"Average R^2 for Clustering: {r2:.4f}\")\n",
    "\n",
    "\n",
    "plot_everything(metrics_data, overprediction_sums, \n",
    "                'Execution Time Experiment on Fugaku Dataset: Over and Under Prediction Analysis ', \n",
    "                'Fugaku Dataset: Sum of Differences in Overprediction Cases Across Clusters',\n",
    "                'Execution Time (Seconds)','/projectnb/peaclab-mon/boztop/resource-allocation/plots/fugaku_plots')\n",
    "\n"
   ]
  },
  {
   "cell_type": "code",
   "execution_count": null,
   "id": "061cd4a4",
   "metadata": {},
   "outputs": [],
   "source": [
    "# XGBoost Selected Features\n",
    "train_features = ['cnumr', 'nnumr', 'elpl', 'freq_req','jid', 'usr', 'jnam', 'jobenv_req' ]\n",
    "rmse, mae, r2, y_test, y_pred, req_test = train_xgboost(df_success, 'Fugaku Dataset', 'duration', train_features , 'elpl')\n",
    "\n",
    "print(f\"RMSE: {rmse:.4f}\")\n",
    "print(f\"MAE: {mae:.4f}\")\n",
    "print(f\"R^2: {r2:.4f}\")\n",
    "\n",
    "\n",
    "# Clustering\n",
    "sub_dfs = cluster_create_sub_dataframes(df_success, ['cnumr', 'nnumr', 'elpl', 'mszl', 'freq_req','jid', 'usr', 'jnam', 'jobenv_req' ] , ['duration'], 10)\n",
    "\n",
    "rmse_list = []\n",
    "mae_list = []\n",
    "r2_list = []\n",
    "\n",
    "metrics_data = []\n",
    "overprediction_sums = []\n",
    "\n",
    "for i, sub_df in enumerate(sub_dfs):\n",
    "    print(f\"Processing cluster {i+1}/{len(sub_dfs)}\")\n",
    "    \n",
    "    rmse, mae, r2, y_test, y_pred, req_test= train_xgboost(sub_df, 'Fugaku Dataset', 'duration', train_features, 'elpl')\n",
    "    \n",
    "    if rmse is not None:\n",
    "        rmse_list.append(rmse)\n",
    "        mae_list.append(mae)\n",
    "        r2_list.append(r2)\n",
    "\n",
    "        total_jobs = len(y_test)\n",
    "        requested_gt_target = (req_test > y_test).sum()\n",
    "        predicted_lt_actual = (y_pred < y_test).sum()\n",
    "        predicted_gt_actual = (y_pred > y_test).sum()\n",
    "\n",
    "        op1 = y_pred > y_test\n",
    "        op2 = req_test > y_test\n",
    "        \n",
    "        sum_predicted_minus_actual = (y_pred[op1] - y_test[op1]).sum()\n",
    "        sum_requested_minus_actual = (req_test[op2] - y_test[op2]).sum()\n",
    "\n",
    "        metrics_data.append([i + 1, total_jobs, requested_gt_target, predicted_lt_actual, predicted_gt_actual])\n",
    "        overprediction_sums.append([sum_predicted_minus_actual, sum_requested_minus_actual])\n",
    "\n",
    "        \n",
    "\n",
    "\n",
    "rmse = np.mean(rmse_list)\n",
    "print(f\"Average RMSE for Clustering: {rmse:.4f}\")\n",
    "mae = np.mean(mae_list)\n",
    "print(f\"Average MAE for Clustering: {mae:.4f}\")\n",
    "r2 = np.mean(r2_list)\n",
    "print(f\"Average R^2 for Clustering: {r2:.4f}\")\n",
    "\n",
    "\n",
    "plot_everything(metrics_data, overprediction_sums, \n",
    "                'Execution Time Experiment on Fugaku Dataset: Over and Under Prediction Analysis ', \n",
    "                'Fugaku Dataset: Sum of Differences in Overprediction Cases Across Clusters',\n",
    "                'Execution Time (Seconds)')\n",
    "\n"
   ]
  },
  {
   "cell_type": "code",
   "execution_count": null,
   "id": "8fdb61c4",
   "metadata": {},
   "outputs": [],
   "source": [
    "# Random Forest Selected Features\n",
    "\n",
    "train_features = ['elpl', 'jid', 'jnam', 'usr', 'nnumr', 'cnumr']\n",
    "rmse, mae, r2, y_test, y_pred, req_test = train_xgboost(df_success, 'Fugaku Dataset', 'duration', train_features , 'elpl')\n",
    "\n",
    "print(f\"RMSE: {rmse:.4f}\")\n",
    "print(f\"MAE: {mae:.4f}\")\n",
    "print(f\"R^2: {r2:.4f}\")\n",
    "\n",
    "# Clustering\n",
    "sub_dfs = cluster_create_sub_dataframes(df_success, ['cnumr', 'nnumr', 'elpl', 'mszl', 'freq_req','jid', 'usr', 'jnam', 'jobenv_req' ] , ['duration'], 8)\n",
    "\n",
    "rmse_list = []\n",
    "mae_list = []\n",
    "r2_list = []\n",
    "\n",
    "metrics_data = []\n",
    "overprediction_sums = []\n",
    "\n",
    "for i, sub_df in enumerate(sub_dfs):\n",
    "    print(f\"Processing cluster {i+1}/{len(sub_dfs)}\")\n",
    "    \n",
    "    rmse, mae, r2, y_test, y_pred, req_test= train_xgboost(sub_df, 'Fugaku Dataset', 'duration', train_features, 'elpl')\n",
    "    \n",
    "    if rmse is not None:\n",
    "        rmse_list.append(rmse)\n",
    "        mae_list.append(mae)\n",
    "        r2_list.append(r2)\n",
    "\n",
    "        total_jobs = len(y_test)\n",
    "        requested_gt_target = (req_test > y_test).sum()\n",
    "        predicted_lt_actual = (y_pred < y_test).sum()\n",
    "        predicted_gt_actual = (y_pred > y_test).sum()\n",
    "\n",
    "        op1 = y_pred > y_test\n",
    "        op2 = req_test > y_test\n",
    "        \n",
    "        sum_predicted_minus_actual = (y_pred[op1] - y_test[op1]).sum()\n",
    "        sum_requested_minus_actual = (req_test[op2] - y_test[op2]).sum()\n",
    "\n",
    "        metrics_data.append([i + 1, total_jobs, requested_gt_target, predicted_lt_actual, predicted_gt_actual])\n",
    "        overprediction_sums.append([sum_predicted_minus_actual, sum_requested_minus_actual])\n",
    "\n",
    "        \n",
    "\n",
    "\n",
    "rmse = np.mean(rmse_list)\n",
    "print(f\"Average RMSE for Clustering: {rmse:.4f}\")\n",
    "mae = np.mean(mae_list)\n",
    "print(f\"Average MAE for Clustering: {mae:.4f}\")\n",
    "r2 = np.mean(r2_list)\n",
    "print(f\"Average R^2 for Clustering: {r2:.4f}\")\n",
    "\n",
    "\n",
    "plot_everything(metrics_data, overprediction_sums, \n",
    "                'Execution Time Experiment on Fugaku Dataset: Over and Under Prediction Analysis ', \n",
    "                'Fugaku Dataset: Sum of Differences in Overprediction Cases Across Clusters',\n",
    "                'Execution Time (Seconds)')\n",
    "\n"
   ]
  },
  {
   "cell_type": "code",
   "execution_count": null,
   "id": "567143e7",
   "metadata": {},
   "outputs": [],
   "source": [
    "# Pearson Corr Coefficient Selected Features\n",
    "pearson_features = ['elpl', 'mszl', 'usr', 'jid', 'cnumr', 'nnumr']\n",
    "rmse, mae, r2, y_test, y_pred, req_test = train_xgboost(df_success, 'Fugaku Dataset', 'duration', ['elpl', 'jid', 'jnam', 'usr', 'nnumr', 'cnumr'] , 'elpl')\n",
    "\n",
    "print(f\"RMSE: {rmse:.4f}\")\n",
    "print(f\"MAE: {mae:.4f}\")\n",
    "print(f\"R^2: {r2:.4f}\")\n",
    "\n",
    "# Clustering\n",
    "sub_dfs = cluster_create_sub_dataframes(df_success, pearson_features , ['duration'], 10)\n",
    "\n",
    "rmse_list = []\n",
    "mae_list = []\n",
    "r2_list = []\n",
    "\n",
    "metrics_data = []\n",
    "overprediction_sums = []\n",
    "\n",
    "for i, sub_df in enumerate(sub_dfs):\n",
    "    print(f\"Processing cluster {i+1}/{len(sub_dfs)}\")\n",
    "    \n",
    "    rmse, mae, r2, y_test, y_pred, req_test= train_xgboost(sub_df, 'Fugaku Dataset', 'duration', ['elpl', 'jid', 'jnam', 'usr', 'nnumr', 'cnumr'], 'elpl')\n",
    "    \n",
    "    if rmse is not None:\n",
    "        rmse_list.append(rmse)\n",
    "        mae_list.append(mae)\n",
    "        r2_list.append(r2)\n",
    "\n",
    "        total_jobs = len(y_test)\n",
    "        requested_gt_target = (req_test > y_test).sum()\n",
    "        predicted_lt_actual = (y_pred < y_test).sum()\n",
    "        predicted_gt_actual = (y_pred > y_test).sum()\n",
    "\n",
    "        op1 = y_pred > y_test\n",
    "        op2 = req_test > y_test\n",
    "        \n",
    "        sum_predicted_minus_actual = (y_pred[op1] - y_test[op1]).sum()\n",
    "        sum_requested_minus_actual = (req_test[op2] - y_test[op2]).sum()\n",
    "\n",
    "        metrics_data.append([i + 1, total_jobs, requested_gt_target, predicted_lt_actual, predicted_gt_actual])\n",
    "        overprediction_sums.append([sum_predicted_minus_actual, sum_requested_minus_actual])\n",
    "\n",
    "        \n",
    "\n",
    "\n",
    "rmse = np.mean(rmse_list)\n",
    "print(f\"Average RMSE for Clustering: {rmse:.4f}\")\n",
    "mae = np.mean(mae_list)\n",
    "print(f\"Average MAE for Clustering: {mae:.4f}\")\n",
    "r2 = np.mean(r2_list)\n",
    "print(f\"Average R^2 for Clustering: {r2:.4f}\")\n",
    "\n",
    "\n",
    "plot_everything(metrics_data, overprediction_sums, \n",
    "                'Execution Time Experiment on Fugaku Dataset: Over and Under Prediction Analysis ', \n",
    "                'Fugaku Dataset: Sum of Differences in Overprediction Cases Across Clusters',\n",
    "                'Execution Time (Seconds)')\n"
   ]
  },
  {
   "cell_type": "code",
   "execution_count": null,
   "id": "3e47d2de",
   "metadata": {},
   "outputs": [],
   "source": []
  },
  {
   "cell_type": "markdown",
   "id": "fff4bf44",
   "metadata": {},
   "source": [
    "# CPU Prediction"
   ]
  },
  {
   "cell_type": "code",
   "execution_count": null,
   "id": "a08896bb",
   "metadata": {},
   "outputs": [],
   "source": [
    "rmse = np.sqrt(((df_success['cnumut'] - df['cnumr']) ** 2).mean())\n",
    "\n",
    "print(f\"RMSE: {rmse}\")"
   ]
  },
  {
   "cell_type": "code",
   "execution_count": null,
   "id": "3f569868",
   "metadata": {},
   "outputs": [],
   "source": [
    "train_features = ['cnumr', 'nnumr', 'elpl', 'mszl', 'freq_req','jid', 'usr', 'jnam', 'jobenv_req' ]"
   ]
  },
  {
   "cell_type": "code",
   "execution_count": null,
   "id": "43d8816d",
   "metadata": {},
   "outputs": [],
   "source": [
    "rmse, mae, r2, y_test, y_pred, req_test = train_xgboost(df_success, 'Fugaku Dataset', 'cnumut', train_features , 'cnumr')\n",
    "\n",
    "print(f\"RMSE: {rmse:.4f}\")\n",
    "print(f\"MAE: {mae:.4f}\")\n",
    "print(f\"R^2: {r2:.4f}\")\n",
    "\n"
   ]
  },
  {
   "cell_type": "code",
   "execution_count": null,
   "id": "a1f96202",
   "metadata": {},
   "outputs": [],
   "source": [
    "train_features = ['cnumr', 'nnumr', 'elpl', 'mszl','jid', 'usr', 'jnam' ]"
   ]
  },
  {
   "cell_type": "code",
   "execution_count": null,
   "id": "2631775b",
   "metadata": {},
   "outputs": [],
   "source": [
    "rmse, mae, r2, y_test, y_pred, req_test = train_xgboost(df_success, 'Fugaku Dataset', 'cnumut', train_features , 'cnumr')\n",
    "\n",
    "print(f\"RMSE: {rmse:.4f}\")\n",
    "print(f\"MAE: {mae:.4f}\")\n",
    "print(f\"R^2: {r2:.4f}\")\n",
    "\n"
   ]
  },
  {
   "cell_type": "code",
   "execution_count": null,
   "id": "18583a20",
   "metadata": {},
   "outputs": [],
   "source": [
    "sub_dfs = cluster_create_sub_dataframes(df_success, ['cnumr', 'nnumr', 'elpl', 'mszl', 'freq_req','jid', 'usr', 'jnam', 'jobenv_req' ] , ['cnumut'], 10)\n",
    "\n",
    "rmse_list = []\n",
    "mae_list = []\n",
    "r2_list = []\n",
    "\n",
    "metrics_data = []\n",
    "overprediction_sums = []\n",
    "\n",
    "for i, sub_df in enumerate(sub_dfs):\n",
    "    print(f\"Processing cluster {i+1}/{len(sub_dfs)}\")\n",
    "    \n",
    "    rmse, mae, r2, y_test, y_pred, req_test= train_xgboost(sub_df, 'Fugaku Dataset', 'cnumut', ['usr', 'jnam','cnumr', 'nnumr', 'elpl', 'freq_req'], 'cnumr')\n",
    "    \n",
    "    if rmse is not None:\n",
    "        rmse_list.append(rmse)\n",
    "        mae_list.append(mae)\n",
    "        r2_list.append(r2)\n",
    "\n",
    "        total_jobs = len(y_test)\n",
    "        requested_gt_target = (req_test > y_test).sum()\n",
    "        predicted_lt_actual = (y_pred < y_test).sum()\n",
    "        predicted_gt_actual = (y_pred > y_test).sum()\n",
    "\n",
    "        op1 = y_pred > y_test\n",
    "        op2 = req_test > y_test\n",
    "        \n",
    "        sum_predicted_minus_actual = (y_pred[op1] - y_test[op1]).sum()\n",
    "        sum_requested_minus_actual = (req_test[op2] - y_test[op2]).sum()\n",
    "\n",
    "        metrics_data.append([i + 1, total_jobs, requested_gt_target, predicted_lt_actual, predicted_gt_actual])\n",
    "        overprediction_sums.append([sum_predicted_minus_actual, sum_requested_minus_actual])\n",
    "\n",
    "        \n",
    "\n",
    "\n",
    "rmse = np.mean(rmse_list)\n",
    "print(f\"Average RMSE for Clustering: {rmse:.4f}\")\n",
    "mae = np.mean(mae_list)\n",
    "print(f\"Average MAE for Clustering: {mae:.4f}\")\n",
    "r2 = np.mean(r2_list)\n",
    "print(f\"Average R^2 for Clustering: {r2:.4f}\")\n",
    "\n",
    "\n",
    "plot_everything(metrics_data, overprediction_sums, \n",
    "                'Number of CPU Cores Experiment on Fugaku Dataset: Over and Under Prediction Analysis ', \n",
    "                'Fugaku Dataset: Sum of Differences in Overprediction Cases Across Clusters',\n",
    "                'Number of CPU Cores')\n",
    "\n"
   ]
  },
  {
   "cell_type": "code",
   "execution_count": null,
   "id": "07e4e6ea",
   "metadata": {},
   "outputs": [],
   "source": []
  },
  {
   "cell_type": "markdown",
   "id": "ff2fd7ed",
   "metadata": {},
   "source": [
    "# Memory Prediction"
   ]
  },
  {
   "cell_type": "code",
   "execution_count": null,
   "id": "9bc2d4ca",
   "metadata": {},
   "outputs": [],
   "source": [
    "rmse = np.sqrt(((df_success['mmszu'] - df['mszl']) ** 2).mean())\n",
    "\n",
    "print(f\"RMSE: {rmse}\")"
   ]
  },
  {
   "cell_type": "code",
   "execution_count": null,
   "id": "d6ab8f3b",
   "metadata": {},
   "outputs": [],
   "source": [
    "train_features = ['usr', 'jnam','cnumr', 'nnumr', 'elpl', 'freq_req']"
   ]
  },
  {
   "cell_type": "code",
   "execution_count": null,
   "id": "ea67624a",
   "metadata": {},
   "outputs": [],
   "source": [
    "rmse, mae, r2, y_test, y_pred, req_test = train_xgboost(df_success, 'Fugaku Dataset', 'mmszu', train_features , 'mszl')\n",
    "\n",
    "print(f\"RMSE: {rmse:.4f}\")\n",
    "print(f\"MAE: {mae:.4f}\")\n",
    "print(f\"R^2: {r2:.4f}\")\n",
    "\n"
   ]
  },
  {
   "cell_type": "code",
   "execution_count": null,
   "id": "1f51ece2",
   "metadata": {},
   "outputs": [],
   "source": [
    "train_features = ['cnumr', 'nnumr', 'elpl', 'mszl', 'freq_req','jid', 'usr', 'jnam', 'jobenv_req' ]"
   ]
  },
  {
   "cell_type": "code",
   "execution_count": null,
   "id": "b2148ebb",
   "metadata": {},
   "outputs": [],
   "source": [
    "rmse, mae, r2, y_test, y_pred, req_test = train_xgboost(df_success, 'Fugaku Dataset', 'mmszu', train_features , 'mszl')\n",
    "\n",
    "print(f\"RMSE: {rmse:.4f}\")\n",
    "print(f\"MAE: {mae:.4f}\")\n",
    "print(f\"R^2: {r2:.4f}\")\n",
    "\n"
   ]
  },
  {
   "cell_type": "code",
   "execution_count": null,
   "id": "310c9e0c",
   "metadata": {},
   "outputs": [],
   "source": [
    "sub_dfs = cluster_create_sub_dataframes(df_success, ['cnumr', 'nnumr', 'elpl', 'mszl', 'freq_req','jid', 'usr', 'jnam', 'jobenv_req' ] , ['mmszu'], 10)\n",
    "\n",
    "rmse_list = []\n",
    "mae_list = []\n",
    "r2_list = []\n",
    "\n",
    "metrics_data = []\n",
    "overprediction_sums = []\n",
    "\n",
    "for i, sub_df in enumerate(sub_dfs):\n",
    "    print(f\"Processing cluster {i+1}/{len(sub_dfs)}\")\n",
    "    \n",
    "    rmse, mae, r2, y_test, y_pred, req_test= train_xgboost(sub_df, 'Fugaku Dataset', 'mmszu', ['usr', 'jnam','cnumr', 'nnumr', 'elpl', 'freq_req'], 'mszl')\n",
    "    \n",
    "    if rmse is not None:\n",
    "        rmse_list.append(rmse)\n",
    "        mae_list.append(mae)\n",
    "        r2_list.append(r2)\n",
    "\n",
    "        total_jobs = len(y_test)\n",
    "        requested_gt_target = (req_test > y_test).sum()\n",
    "        predicted_lt_actual = (y_pred < y_test).sum()\n",
    "        predicted_gt_actual = (y_pred > y_test).sum()\n",
    "\n",
    "        op1 = y_pred > y_test\n",
    "        op2 = req_test > y_test\n",
    "        \n",
    "        sum_predicted_minus_actual = (y_pred[op1] - y_test[op1]).sum()\n",
    "        sum_requested_minus_actual = (req_test[op2] - y_test[op2]).sum()\n",
    "\n",
    "        metrics_data.append([i + 1, total_jobs, requested_gt_target, predicted_lt_actual, predicted_gt_actual])\n",
    "        overprediction_sums.append([sum_predicted_minus_actual, sum_requested_minus_actual])\n",
    "\n",
    "        \n",
    "\n",
    "\n",
    "rmse = np.mean(rmse_list)\n",
    "print(f\"Average RMSE for Clustering: {rmse:.4f}\")\n",
    "mae = np.mean(mae_list)\n",
    "print(f\"Average MAE for Clustering: {mae:.4f}\")\n",
    "r2 = np.mean(r2_list)\n",
    "print(f\"Average R^2 for Clustering: {r2:.4f}\")\n",
    "\n",
    "\n",
    "plot_everything(metrics_data, overprediction_sums, \n",
    "                'Memory Size Experiment on Fugaku Dataset: Over and Under Prediction Analysis ', \n",
    "                'Fugaku Dataset: Sum of Differences in Overprediction Cases Across Clusters',\n",
    "                'Memory Size (Bytes)')"
   ]
  },
  {
   "cell_type": "code",
   "execution_count": null,
   "id": "2f2652f1",
   "metadata": {},
   "outputs": [],
   "source": []
  },
  {
   "cell_type": "markdown",
   "id": "ed0a42a6",
   "metadata": {},
   "source": [
    "# Node Prediction"
   ]
  },
  {
   "cell_type": "code",
   "execution_count": null,
   "id": "c6f86094",
   "metadata": {},
   "outputs": [],
   "source": [
    "rmse = np.sqrt(((df_success['nnumu'] - df['nnuma']) ** 2).mean())\n",
    "\n",
    "print(f\"RMSE: {rmse}\")"
   ]
  },
  {
   "cell_type": "code",
   "execution_count": null,
   "id": "54579fa1",
   "metadata": {},
   "outputs": [],
   "source": [
    "train_features = ['cnumr', 'nnumr', 'elpl', 'mszl', 'freq_req','jid', 'usr', 'jnam', 'jobenv_req' ]"
   ]
  },
  {
   "cell_type": "code",
   "execution_count": null,
   "id": "77725e17",
   "metadata": {},
   "outputs": [],
   "source": [
    "rmse, mae, r2, y_test, y_pred, req_test = train_xgboost(df_success, 'Fugaku Dataset', 'nnumu', train_features , 'nnuma')\n",
    "\n",
    "print(f\"RMSE: {rmse:.4f}\")\n",
    "print(f\"MAE: {mae:.4f}\")\n",
    "print(f\"R^2: {r2:.4f}\")\n",
    "\n"
   ]
  },
  {
   "cell_type": "code",
   "execution_count": null,
   "id": "aa60a6bb",
   "metadata": {},
   "outputs": [],
   "source": [
    "train_features = ['usr', 'jnam','cnumr', 'nnumr', 'elpl', 'freq_req']"
   ]
  },
  {
   "cell_type": "code",
   "execution_count": null,
   "id": "0139f037",
   "metadata": {},
   "outputs": [],
   "source": [
    "rmse, mae, r2, y_test, y_pred, req_test = train_xgboost(df_success, 'Fugaku Dataset', 'nnumu', train_features , 'nnuma')\n",
    "\n",
    "print(f\"RMSE: {rmse:.4f}\")\n",
    "print(f\"MAE: {mae:.4f}\")\n",
    "print(f\"R^2: {r2:.4f}\")\n",
    "\n"
   ]
  },
  {
   "cell_type": "code",
   "execution_count": null,
   "id": "ad9f3ca8",
   "metadata": {},
   "outputs": [],
   "source": [
    "sub_dfs = cluster_create_sub_dataframes(df_success, ['cnumr', 'nnumr', 'elpl', 'mszl', 'freq_req','jid', 'usr', 'jnam', 'jobenv_req' ] , ['nnumu'], 10)\n",
    "\n",
    "rmse_list = []\n",
    "mae_list = []\n",
    "r2_list = []\n",
    "\n",
    "metrics_data = []\n",
    "overprediction_sums = []\n",
    "\n",
    "for i, sub_df in enumerate(sub_dfs):\n",
    "    print(f\"Processing cluster {i+1}/{len(sub_dfs)}\")\n",
    "    \n",
    "    rmse, mae, r2, y_test, y_pred, req_test= train_xgboost(sub_df, 'Fugaku Dataset', 'nnumu', ['usr', 'jnam','cnumr', 'nnumr', 'elpl', 'freq_req'], 'nnumr')\n",
    "    \n",
    "    if rmse is not None:\n",
    "        rmse_list.append(rmse)\n",
    "        mae_list.append(mae)\n",
    "        r2_list.append(r2)\n",
    "\n",
    "        total_jobs = len(y_test)\n",
    "        requested_gt_target = (req_test > y_test).sum()\n",
    "        predicted_lt_actual = (y_pred < y_test).sum()\n",
    "        predicted_gt_actual = (y_pred > y_test).sum()\n",
    "\n",
    "        op1 = y_pred > y_test\n",
    "        op2 = req_test > y_test\n",
    "        \n",
    "        sum_predicted_minus_actual = (y_pred[op1] - y_test[op1]).sum()\n",
    "        sum_requested_minus_actual = (req_test[op2] - y_test[op2]).sum()\n",
    "\n",
    "        metrics_data.append([i + 1, total_jobs, requested_gt_target, predicted_lt_actual, predicted_gt_actual])\n",
    "        overprediction_sums.append([sum_predicted_minus_actual, sum_requested_minus_actual])\n",
    "\n",
    "        \n",
    "\n",
    "\n",
    "rmse = np.mean(rmse_list)\n",
    "print(f\"Average RMSE for Clustering: {rmse:.4f}\")\n",
    "mae = np.mean(mae_list)\n",
    "print(f\"Average MAE for Clustering: {mae:.4f}\")\n",
    "r2 = np.mean(r2_list)\n",
    "print(f\"Average R^2 for Clustering: {r2:.4f}\")\n",
    "\n",
    "\n",
    "plot_everything(metrics_data, overprediction_sums, \n",
    "                'Number of Node Prediction Experiment on Fugaku Dataset: Over and Under Prediction Analysis ', \n",
    "                'Fugaku Dataset: Sum of Differences in Overprediction Cases Across Clusters',\n",
    "                'Number of Nodes')\n",
    "\n"
   ]
  },
  {
   "cell_type": "code",
   "execution_count": null,
   "id": "b8a21897",
   "metadata": {},
   "outputs": [],
   "source": []
  },
  {
   "cell_type": "code",
   "execution_count": null,
   "id": "79ffd784",
   "metadata": {},
   "outputs": [],
   "source": []
  }
 ],
 "metadata": {
  "kernelspec": {
   "display_name": "Python (monitoring_venv)",
   "language": "python",
   "name": "monitoring_venv"
  },
  "language_info": {
   "codemirror_mode": {
    "name": "ipython",
    "version": 3
   },
   "file_extension": ".py",
   "mimetype": "text/x-python",
   "name": "python",
   "nbconvert_exporter": "python",
   "pygments_lexer": "ipython3",
   "version": "3.6.5"
  }
 },
 "nbformat": 4,
 "nbformat_minor": 5
}
